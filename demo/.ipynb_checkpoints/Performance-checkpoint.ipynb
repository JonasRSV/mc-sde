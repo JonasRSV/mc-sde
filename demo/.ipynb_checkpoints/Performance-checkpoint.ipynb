{
 "cells": [
  {
   "cell_type": "code",
   "execution_count": 6,
   "metadata": {},
   "outputs": [
    {
     "data": {
      "text/plain": [
       "['/home/jonas/dev/private/mc-sde/demo',\n",
       " '/usr/lib/python38.zip',\n",
       " '/usr/lib/python3.8',\n",
       " '/usr/lib/python3.8/lib-dynload',\n",
       " '',\n",
       " '/home/jonas/.local/lib/python3.8/site-packages',\n",
       " '/usr/local/lib/python3.8/dist-packages',\n",
       " '/usr/lib/python3/dist-packages',\n",
       " '/home/jonas/.local/lib/python3.8/site-packages/IPython/extensions',\n",
       " '/home/jonas/.ipython']"
      ]
     },
     "execution_count": 6,
     "metadata": {},
     "output_type": "execute_result"
    }
   ],
   "source": [
    "import sys\n",
    "\n",
    "sys.path"
   ]
  },
  {
   "cell_type": "code",
   "execution_count": null,
   "metadata": {},
   "outputs": [
    {
     "name": "stdout",
     "output_type": "stream",
     "text": [
      "Bcasting\n"
     ]
    }
   ],
   "source": [
    "from sdepy.master import run\n",
    "from sdepy.sde.ito import Ito1D\n",
    "from sdepy.pdf.histogram import Simple1DHistogram\n",
    "from sdepy.core import Job\n",
    "import numpy as np\n",
    "import matplotlib.pyplot as plt\n",
    "import seaborn as sb\n",
    "\n",
    "\n",
    "def drift(t, x):\n",
    "    return 0\n",
    "\n",
    "\n",
    "def diffusion(t, x):\n",
    "    return 1\n",
    "\n",
    "\n",
    "\n",
    "sde = Ito1D(particles=50000,\n",
    "            x0=0.0,\n",
    "            drift=drift,\n",
    "            diffusion=diffusion,\n",
    "            sigma=1,\n",
    "            t0=0.0,\n",
    "            dt=1e-2,\n",
    "            T=1.0)\n",
    "\n",
    "job = Job(\n",
    "    sde=sde,\n",
    "    pdf=Simple1DHistogram(bins=100),\n",
    "    mode=Job.RAW\n",
    ")\n",
    "\n",
    "pdf = run(job, 2)\n",
    "\n",
    "x = np.linspace(pdf.lower_bound, pdf.upper_bound, 1000)\n",
    "y = pdf(x)\n",
    "\n",
    "plt.figure(figsize=(20, 10))\n",
    "plt.plot(x, y, label=\"Approximation\")\n",
    "sb.distplot(np.random.normal(0, 1, size=10000), label=\"True\")\n",
    "plt.show()\n"
   ]
  }
 ],
 "metadata": {
  "kernelspec": {
   "display_name": "Python 3",
   "language": "python",
   "name": "python3"
  },
  "language_info": {
   "codemirror_mode": {
    "name": "ipython",
    "version": 3
   },
   "file_extension": ".py",
   "mimetype": "text/x-python",
   "name": "python",
   "nbconvert_exporter": "python",
   "pygments_lexer": "ipython3",
   "version": "3.6.10"
  }
 },
 "nbformat": 4,
 "nbformat_minor": 4
}
